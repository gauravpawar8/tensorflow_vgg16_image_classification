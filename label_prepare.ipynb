{
 "cells": [
  {
   "cell_type": "code",
   "execution_count": 1,
   "metadata": {
    "collapsed": true
   },
   "outputs": [],
   "source": [
    "import numpy as np\n",
    "import scipy.io\n",
    "from random import shuffle"
   ]
  },
  {
   "cell_type": "code",
   "execution_count": 2,
   "metadata": {
    "collapsed": true
   },
   "outputs": [],
   "source": [
    "label_var = scipy.io.loadmat('./oxfordflower102/imagelabels.mat')['labels'][0]\n",
    "image_name_format = list('image_00000.jpg')"
   ]
  },
  {
   "cell_type": "code",
   "execution_count": 3,
   "metadata": {},
   "outputs": [],
   "source": [
    "with open('./tensorflow_vgg19_image_classification/dataset/all.txt', 'w') as f:\n",
    "    for i in range(1, label_var.shape[0]+1):\n",
    "        image_name_format[-4 - len(str(i)):-4] = list(str(i))\n",
    "        f.write(''.join(image_name_format) + ' ' + str(label_var[i-1]) + '\\n')\n"
   ]
  },
  {
   "cell_type": "code",
   "execution_count": 4,
   "metadata": {},
   "outputs": [],
   "source": [
    "with open('./tensorflow_vgg19_image_classification/dataset/all.txt') as f:\n",
    "    content = f.readlines()\n",
    "shuffle(content)"
   ]
  },
  {
   "cell_type": "code",
   "execution_count": 5,
   "metadata": {},
   "outputs": [],
   "source": [
    "content_train = content[:7000]\n",
    "content_val = content[7000:]"
   ]
  },
  {
   "cell_type": "code",
   "execution_count": 6,
   "metadata": {},
   "outputs": [],
   "source": [
    "with open('./tensorflow_vgg19_image_classification/dataset/train.txt', 'a') as f:\n",
    "    for image_path in content_train:\n",
    "        f.write(image_path)\n",
    "with open('./tensorflow_vgg19_image_classification/dataset/val.txt', 'a') as f:\n",
    "    for image_path in content_val:\n",
    "        f.write(image_path)"
   ]
  },
  {
   "cell_type": "code",
   "execution_count": null,
   "metadata": {
    "collapsed": true
   },
   "outputs": [],
   "source": []
  }
 ],
 "metadata": {
  "kernelspec": {
   "display_name": "Python 2",
   "language": "python",
   "name": "python2"
  },
  "language_info": {
   "codemirror_mode": {
    "name": "ipython",
    "version": 2
   },
   "file_extension": ".py",
   "mimetype": "text/x-python",
   "name": "python",
   "nbconvert_exporter": "python",
   "pygments_lexer": "ipython2",
   "version": "2.7.12"
  }
 },
 "nbformat": 4,
 "nbformat_minor": 2
}
